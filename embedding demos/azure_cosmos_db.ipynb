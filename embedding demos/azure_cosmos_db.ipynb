{
 "cells": [
  {
   "cell_type": "markdown",
   "id": "245c0aa70db77606",
   "metadata": {},
   "source": [
    "# Azure Cosmos DB Mongo vCore\n",
    "\n",
    "This notebook shows you how to leverage this integrated [vector database](https://learn.microsoft.com/en-us/azure/cosmos-db/vector-database) to store documents in collections, create indicies and perform vector search queries using approximate nearest neighbor algorithms such as COS (cosine distance), L2 (Euclidean distance), and IP (inner product) to locate documents close to the query vectors. \n",
    "    \n",
    "Azure Cosmos DB is the database that powers OpenAI's ChatGPT service. It offers single-digit millisecond response times, automatic and instant scalability, along with guaranteed speed at any scale. \n",
    "\n",
    "Azure Cosmos DB for MongoDB vCore(https://learn.microsoft.com/en-us/azure/cosmos-db/mongodb/vcore/) provides developers with a fully managed MongoDB-compatible database service for building modern applications with a familiar architecture. You can apply your MongoDB experience and continue to use your favorite MongoDB drivers, SDKs, and tools by pointing your application to the API for MongoDB vCore account's connection string.\n",
    "\n",
    "[Sign Up](https://azure.microsoft.com/en-us/free/) for lifetime free access to get started today.\n",
    "        "
   ]
  },
  {
   "cell_type": "markdown",
   "id": "8c493e205ce1dda5",
   "metadata": {},
   "source": []
  },
  {
   "cell_type": "code",
   "execution_count": 1,
   "id": "ab8e45f5bd435ade",
   "metadata": {
    "ExecuteTime": {
     "end_time": "2024-02-08T18:25:05.278480Z",
     "start_time": "2024-02-08T18:24:51.560677Z"
    }
   },
   "outputs": [],
   "source": [
    "# %pip install --upgrade --quiet  pymongo langchain-openai langchain-community"
   ]
  },
  {
   "cell_type": "code",
   "execution_count": 2,
   "id": "9c7ce9e7b26efbb0",
   "metadata": {
    "ExecuteTime": {
     "end_time": "2024-02-08T18:25:56.926147Z",
     "start_time": "2024-02-08T18:25:56.900087Z"
    }
   },
   "outputs": [],
   "source": [
    "import os\n",
    "from dotenv import load_dotenv\n",
    "load_dotenv() # read from a .env file\n",
    "\n",
    "CONNECTION_STRING = os.getenv(\"CONNECTION_STRING\")\n",
    "INDEX_NAME = \"izzy-test-index\"\n",
    "NAMESPACE = \"izzy_test_db.izzy_test_collection\"\n",
    "DB_NAME, COLLECTION_NAME = NAMESPACE.split(\".\")"
   ]
  },
  {
   "cell_type": "markdown",
   "id": "f2e66b097c6ce2e3",
   "metadata": {},
   "source": [
    "We want to use `AzureOpenAIEmbeddings` so we need to set up our Azure OpenAI API Key alongside other environment variables. "
   ]
  },
  {
   "cell_type": "code",
   "execution_count": 3,
   "id": "4a052d99c6b8a2a7",
   "metadata": {
    "ExecuteTime": {
     "end_time": "2024-02-08T18:26:06.558294Z",
     "start_time": "2024-02-08T18:26:06.550008Z"
    }
   },
   "outputs": [],
   "source": [
    "# Set up the OpenAI Environment Variables\n",
    "\n",
    "os.environ[\"AZURE_OPENAI_API_KEY\"] = os.getenv(\"API_KEY\")\n",
    "os.environ[\"AZURE_OPENAI_ENDPOINT\"] = os.getenv(\"PROJECT_ENDPOINT\")\n",
    "os.environ[\"AZURE_OPENAI_API_VERSION\"] = \"2023-05-15\"\n",
    "os.environ[\"OPENAI_EMBEDDINGS_MODEL_NAME\"] = \"text-embedding-ada-002\"  # the model name"
   ]
  },
  {
   "cell_type": "markdown",
   "id": "ebaa28c6e2b35063",
   "metadata": {},
   "source": [
    "Now, we need to load the documents into the collection, create the index and then run our queries against the index to retrieve matches.\n",
    "\n",
    "Please refer to the [documentation](https://learn.microsoft.com/en-us/azure/cosmos-db/mongodb/vcore/vector-search) if you have questions about certain parameters"
   ]
  },
  {
   "cell_type": "code",
   "execution_count": 4,
   "id": "183741cf8f4c7c53",
   "metadata": {
    "ExecuteTime": {
     "end_time": "2024-02-08T18:27:00.782280Z",
     "start_time": "2024-02-08T18:26:47.339151Z"
    }
   },
   "outputs": [
    {
     "name": "stderr",
     "output_type": "stream",
     "text": [
      "/Users/alecjvaughn/Developer/GenAI Academy/eus2Foundry/.conda/lib/python3.11/site-packages/requests/__init__.py:86: RequestsDependencyWarning: Unable to find acceptable character detection dependency (chardet or charset_normalizer).\n",
      "  warnings.warn(\n"
     ]
    }
   ],
   "source": [
    "from langchain_community.document_loaders import TextLoader\n",
    "from langchain_community.vectorstores.azure_cosmos_db import (\n",
    "    AzureCosmosDBVectorSearch,\n",
    "    CosmosDBSimilarityType,\n",
    "    CosmosDBVectorSearchType,\n",
    ")\n",
    "from langchain_openai import AzureOpenAIEmbeddings\n",
    "from langchain_text_splitters import CharacterTextSplitter\n",
    "\n",
    "SOURCE_FILE_NAME = \"../data/state_of_the_union.txt\"\n",
    "\n",
    "loader = TextLoader(SOURCE_FILE_NAME)\n",
    "documents = loader.load()\n",
    "text_splitter = CharacterTextSplitter(chunk_size=1000, chunk_overlap=0)\n",
    "docs = text_splitter.split_documents(documents)"
   ]
  },
  {
   "cell_type": "code",
   "execution_count": 5,
   "id": "f6c6ed80-7b91-4833-bab5-c9b2b5edcdec",
   "metadata": {},
   "outputs": [
    {
     "data": {
      "text/plain": [
       "Document(metadata={'source': '../data/state_of_the_union.txt'}, page_content='Madam Speaker, Madam Vice President, our First Lady and Second Gentleman. Members of Congress and the Cabinet. Justices of the Supreme Court. My fellow Americans.  \\n\\nLast year COVID-19 kept us apart. This year we are finally together again. \\n\\nTonight, we meet as Democrats Republicans and Independents. But most importantly as Americans. \\n\\nWith a duty to one another to the American people to the Constitution. \\n\\nAnd with an unwavering resolve that freedom will always triumph over tyranny. \\n\\nSix days ago, Russia’s Vladimir Putin sought to shake the foundations of the free world thinking he could make it bend to his menacing ways. But he badly miscalculated. \\n\\nHe thought he could roll into Ukraine and the world would roll over. Instead he met a wall of strength he never imagined. \\n\\nHe met the Ukrainian people. \\n\\nFrom President Zelenskyy to every Ukrainian, their fearlessness, their courage, their determination, inspires the world.')"
      ]
     },
     "execution_count": 5,
     "metadata": {},
     "output_type": "execute_result"
    }
   ],
   "source": [
    "docs[0]"
   ]
  },
  {
   "cell_type": "code",
   "execution_count": 6,
   "id": "39ae6058c2f7fdf1",
   "metadata": {
    "ExecuteTime": {
     "end_time": "2024-02-08T18:31:13.486173Z",
     "start_time": "2024-02-08T18:30:54.175890Z"
    }
   },
   "outputs": [
    {
     "name": "stderr",
     "output_type": "stream",
     "text": [
      "/var/folders/5w/5n8w44_n2g74x3n_1yyhfbz00000gn/T/ipykernel_21986/4042978088.py:7: UserWarning: You appear to be connected to a CosmosDB cluster. For more information regarding feature compatibility and support please visit https://www.mongodb.com/supportability/cosmosdb\n",
      "  client: MongoClient = MongoClient(CONNECTION_STRING)\n",
      "/Users/alecjvaughn/Developer/GenAI Academy/eus2Foundry/.conda/lib/python3.11/site-packages/pymongo/synchronous/mongo_client.py:1737: UserWarning: You appear to be connected to a CosmosDB cluster. For more information regarding feature compatibility and support please visit https://www.mongodb.com/supportability/cosmosdb\n",
      "  self._resolve_srv()\n"
     ]
    },
    {
     "ename": "AuthenticationError",
     "evalue": "Error code: 401 - {'statusCode': 401, 'message': 'Unauthorized. Access token is missing, invalid, audience is incorrect (https://ai.azure.com), or have expired.'}",
     "output_type": "error",
     "traceback": [
      "\u001b[31m---------------------------------------------------------------------------\u001b[39m",
      "\u001b[31mAuthenticationError\u001b[39m                       Traceback (most recent call last)",
      "\u001b[36mCell\u001b[39m\u001b[36m \u001b[39m\u001b[32mIn[6]\u001b[39m\u001b[32m, line 21\u001b[39m\n\u001b[32m     14\u001b[39m model_name = os.getenv(\u001b[33m\"\u001b[39m\u001b[33mOPENAI_EMBEDDINGS_MODEL_NAME\u001b[39m\u001b[33m\"\u001b[39m, \u001b[33m\"\u001b[39m\u001b[33mtext-embedding-ada-002\u001b[39m\u001b[33m\"\u001b[39m)\n\u001b[32m     17\u001b[39m openai_embeddings: AzureOpenAIEmbeddings = AzureOpenAIEmbeddings(\n\u001b[32m     18\u001b[39m     model=model_name, chunk_size=\u001b[32m1\u001b[39m\n\u001b[32m     19\u001b[39m )\n\u001b[32m---> \u001b[39m\u001b[32m21\u001b[39m vectorstore = AzureCosmosDBVectorSearch.from_documents(\n\u001b[32m     22\u001b[39m     docs,\n\u001b[32m     23\u001b[39m     openai_embeddings,\n\u001b[32m     24\u001b[39m     collection=collection,\n\u001b[32m     25\u001b[39m     index_name=INDEX_NAME,\n\u001b[32m     26\u001b[39m )\n\u001b[32m     28\u001b[39m \u001b[38;5;66;03m# Read more about these variables in detail here. https://learn.microsoft.com/en-us/azure/cosmos-db/mongodb/vcore/vector-search\u001b[39;00m\n\u001b[32m     29\u001b[39m num_lists = \u001b[32m100\u001b[39m\n",
      "\u001b[36mFile \u001b[39m\u001b[32m~/Developer/GenAI Academy/eus2Foundry/.conda/lib/python3.11/site-packages/langchain_core/vectorstores/base.py:848\u001b[39m, in \u001b[36mVectorStore.from_documents\u001b[39m\u001b[34m(cls, documents, embedding, **kwargs)\u001b[39m\n\u001b[32m    845\u001b[39m     \u001b[38;5;28;01mif\u001b[39;00m \u001b[38;5;28many\u001b[39m(ids):\n\u001b[32m    846\u001b[39m         kwargs[\u001b[33m\"\u001b[39m\u001b[33mids\u001b[39m\u001b[33m\"\u001b[39m] = ids\n\u001b[32m--> \u001b[39m\u001b[32m848\u001b[39m \u001b[38;5;28;01mreturn\u001b[39;00m \u001b[38;5;28mcls\u001b[39m.from_texts(texts, embedding, metadatas=metadatas, **kwargs)\n",
      "\u001b[36mFile \u001b[39m\u001b[32m~/Developer/GenAI Academy/eus2Foundry/.conda/lib/python3.11/site-packages/langchain_community/vectorstores/azure_cosmos_db.py:425\u001b[39m, in \u001b[36mAzureCosmosDBVectorSearch.from_texts\u001b[39m\u001b[34m(cls, texts, embedding, metadatas, collection, **kwargs)\u001b[39m\n\u001b[32m    423\u001b[39m     \u001b[38;5;28;01mraise\u001b[39;00m \u001b[38;5;167;01mValueError\u001b[39;00m(\u001b[33m\"\u001b[39m\u001b[33mMust provide \u001b[39m\u001b[33m'\u001b[39m\u001b[33mcollection\u001b[39m\u001b[33m'\u001b[39m\u001b[33m named parameter.\u001b[39m\u001b[33m\"\u001b[39m)\n\u001b[32m    424\u001b[39m vectorstore = \u001b[38;5;28mcls\u001b[39m(collection, embedding, **kwargs)\n\u001b[32m--> \u001b[39m\u001b[32m425\u001b[39m vectorstore.add_texts(texts, metadatas=metadatas)\n\u001b[32m    426\u001b[39m \u001b[38;5;28;01mreturn\u001b[39;00m vectorstore\n",
      "\u001b[36mFile \u001b[39m\u001b[32m~/Developer/GenAI Academy/eus2Foundry/.conda/lib/python3.11/site-packages/langchain_community/vectorstores/azure_cosmos_db.py:386\u001b[39m, in \u001b[36mAzureCosmosDBVectorSearch.add_texts\u001b[39m\u001b[34m(self, texts, metadatas, **kwargs)\u001b[39m\n\u001b[32m    384\u001b[39m         metadatas_batch = []\n\u001b[32m    385\u001b[39m \u001b[38;5;28;01mif\u001b[39;00m texts_batch:\n\u001b[32m--> \u001b[39m\u001b[32m386\u001b[39m     result_ids.extend(\u001b[38;5;28mself\u001b[39m._insert_texts(texts_batch, metadatas_batch))\n\u001b[32m    387\u001b[39m \u001b[38;5;28;01mreturn\u001b[39;00m result_ids\n",
      "\u001b[36mFile \u001b[39m\u001b[32m~/Developer/GenAI Academy/eus2Foundry/.conda/lib/python3.11/site-packages/langchain_community/vectorstores/azure_cosmos_db.py:404\u001b[39m, in \u001b[36mAzureCosmosDBVectorSearch._insert_texts\u001b[39m\u001b[34m(self, texts, metadatas)\u001b[39m\n\u001b[32m    401\u001b[39m     \u001b[38;5;28;01mreturn\u001b[39;00m []\n\u001b[32m    403\u001b[39m \u001b[38;5;66;03m# Embed and create the documents\u001b[39;00m\n\u001b[32m--> \u001b[39m\u001b[32m404\u001b[39m embeddings = \u001b[38;5;28mself\u001b[39m._embedding.embed_documents(texts)\n\u001b[32m    405\u001b[39m to_insert = [\n\u001b[32m    406\u001b[39m     {\u001b[38;5;28mself\u001b[39m._text_key: t, \u001b[38;5;28mself\u001b[39m._embedding_key: embedding, \u001b[33m\"\u001b[39m\u001b[33mmetadata\u001b[39m\u001b[33m\"\u001b[39m: m}\n\u001b[32m    407\u001b[39m     \u001b[38;5;28;01mfor\u001b[39;00m t, m, embedding \u001b[38;5;129;01min\u001b[39;00m \u001b[38;5;28mzip\u001b[39m(texts, metadatas, embeddings)\n\u001b[32m    408\u001b[39m ]\n\u001b[32m    409\u001b[39m \u001b[38;5;66;03m# insert the documents in Cosmos DB\u001b[39;00m\n",
      "\u001b[36mFile \u001b[39m\u001b[32m~/Developer/GenAI Academy/eus2Foundry/.conda/lib/python3.11/site-packages/langchain_openai/embeddings/base.py:590\u001b[39m, in \u001b[36mOpenAIEmbeddings.embed_documents\u001b[39m\u001b[34m(self, texts, chunk_size, **kwargs)\u001b[39m\n\u001b[32m    587\u001b[39m \u001b[38;5;66;03m# NOTE: to keep things simple, we assume the list may contain texts longer\u001b[39;00m\n\u001b[32m    588\u001b[39m \u001b[38;5;66;03m#       than the maximum context and use length-safe embedding function.\u001b[39;00m\n\u001b[32m    589\u001b[39m engine = cast(\u001b[38;5;28mstr\u001b[39m, \u001b[38;5;28mself\u001b[39m.deployment)\n\u001b[32m--> \u001b[39m\u001b[32m590\u001b[39m \u001b[38;5;28;01mreturn\u001b[39;00m \u001b[38;5;28mself\u001b[39m._get_len_safe_embeddings(\n\u001b[32m    591\u001b[39m     texts, engine=engine, chunk_size=chunk_size, **kwargs\n\u001b[32m    592\u001b[39m )\n",
      "\u001b[36mFile \u001b[39m\u001b[32m~/Developer/GenAI Academy/eus2Foundry/.conda/lib/python3.11/site-packages/langchain_openai/embeddings/base.py:478\u001b[39m, in \u001b[36mOpenAIEmbeddings._get_len_safe_embeddings\u001b[39m\u001b[34m(self, texts, engine, chunk_size, **kwargs)\u001b[39m\n\u001b[32m    476\u001b[39m batched_embeddings: \u001b[38;5;28mlist\u001b[39m[\u001b[38;5;28mlist\u001b[39m[\u001b[38;5;28mfloat\u001b[39m]] = []\n\u001b[32m    477\u001b[39m \u001b[38;5;28;01mfor\u001b[39;00m i \u001b[38;5;129;01min\u001b[39;00m _iter:\n\u001b[32m--> \u001b[39m\u001b[32m478\u001b[39m     response = \u001b[38;5;28mself\u001b[39m.client.create(\n\u001b[32m    479\u001b[39m         \u001b[38;5;28minput\u001b[39m=tokens[i : i + _chunk_size], **client_kwargs\n\u001b[32m    480\u001b[39m     )\n\u001b[32m    481\u001b[39m     \u001b[38;5;28;01mif\u001b[39;00m \u001b[38;5;129;01mnot\u001b[39;00m \u001b[38;5;28misinstance\u001b[39m(response, \u001b[38;5;28mdict\u001b[39m):\n\u001b[32m    482\u001b[39m         response = response.model_dump()\n",
      "\u001b[36mFile \u001b[39m\u001b[32m~/Developer/GenAI Academy/eus2Foundry/.conda/lib/python3.11/site-packages/openai/resources/embeddings.py:129\u001b[39m, in \u001b[36mEmbeddings.create\u001b[39m\u001b[34m(self, input, model, dimensions, encoding_format, user, extra_headers, extra_query, extra_body, timeout)\u001b[39m\n\u001b[32m    123\u001b[39m             embedding.embedding = np.frombuffer(  \u001b[38;5;66;03m# type: ignore[no-untyped-call]\u001b[39;00m\n\u001b[32m    124\u001b[39m                 base64.b64decode(data), dtype=\u001b[33m\"\u001b[39m\u001b[33mfloat32\u001b[39m\u001b[33m\"\u001b[39m\n\u001b[32m    125\u001b[39m             ).tolist()\n\u001b[32m    127\u001b[39m     \u001b[38;5;28;01mreturn\u001b[39;00m obj\n\u001b[32m--> \u001b[39m\u001b[32m129\u001b[39m \u001b[38;5;28;01mreturn\u001b[39;00m \u001b[38;5;28mself\u001b[39m._post(\n\u001b[32m    130\u001b[39m     \u001b[33m\"\u001b[39m\u001b[33m/embeddings\u001b[39m\u001b[33m\"\u001b[39m,\n\u001b[32m    131\u001b[39m     body=maybe_transform(params, embedding_create_params.EmbeddingCreateParams),\n\u001b[32m    132\u001b[39m     options=make_request_options(\n\u001b[32m    133\u001b[39m         extra_headers=extra_headers,\n\u001b[32m    134\u001b[39m         extra_query=extra_query,\n\u001b[32m    135\u001b[39m         extra_body=extra_body,\n\u001b[32m    136\u001b[39m         timeout=timeout,\n\u001b[32m    137\u001b[39m         post_parser=parser,\n\u001b[32m    138\u001b[39m     ),\n\u001b[32m    139\u001b[39m     cast_to=CreateEmbeddingResponse,\n\u001b[32m    140\u001b[39m )\n",
      "\u001b[36mFile \u001b[39m\u001b[32m~/Developer/GenAI Academy/eus2Foundry/.conda/lib/python3.11/site-packages/openai/_base_client.py:1249\u001b[39m, in \u001b[36mSyncAPIClient.post\u001b[39m\u001b[34m(self, path, cast_to, body, options, files, stream, stream_cls)\u001b[39m\n\u001b[32m   1235\u001b[39m \u001b[38;5;28;01mdef\u001b[39;00m\u001b[38;5;250m \u001b[39m\u001b[34mpost\u001b[39m(\n\u001b[32m   1236\u001b[39m     \u001b[38;5;28mself\u001b[39m,\n\u001b[32m   1237\u001b[39m     path: \u001b[38;5;28mstr\u001b[39m,\n\u001b[32m   (...)\u001b[39m\u001b[32m   1244\u001b[39m     stream_cls: \u001b[38;5;28mtype\u001b[39m[_StreamT] | \u001b[38;5;28;01mNone\u001b[39;00m = \u001b[38;5;28;01mNone\u001b[39;00m,\n\u001b[32m   1245\u001b[39m ) -> ResponseT | _StreamT:\n\u001b[32m   1246\u001b[39m     opts = FinalRequestOptions.construct(\n\u001b[32m   1247\u001b[39m         method=\u001b[33m\"\u001b[39m\u001b[33mpost\u001b[39m\u001b[33m\"\u001b[39m, url=path, json_data=body, files=to_httpx_files(files), **options\n\u001b[32m   1248\u001b[39m     )\n\u001b[32m-> \u001b[39m\u001b[32m1249\u001b[39m     \u001b[38;5;28;01mreturn\u001b[39;00m cast(ResponseT, \u001b[38;5;28mself\u001b[39m.request(cast_to, opts, stream=stream, stream_cls=stream_cls))\n",
      "\u001b[36mFile \u001b[39m\u001b[32m~/Developer/GenAI Academy/eus2Foundry/.conda/lib/python3.11/site-packages/openai/_base_client.py:1037\u001b[39m, in \u001b[36mSyncAPIClient.request\u001b[39m\u001b[34m(self, cast_to, options, stream, stream_cls)\u001b[39m\n\u001b[32m   1034\u001b[39m             err.response.read()\n\u001b[32m   1036\u001b[39m         log.debug(\u001b[33m\"\u001b[39m\u001b[33mRe-raising status error\u001b[39m\u001b[33m\"\u001b[39m)\n\u001b[32m-> \u001b[39m\u001b[32m1037\u001b[39m         \u001b[38;5;28;01mraise\u001b[39;00m \u001b[38;5;28mself\u001b[39m._make_status_error_from_response(err.response) \u001b[38;5;28;01mfrom\u001b[39;00m\u001b[38;5;250m \u001b[39m\u001b[38;5;28;01mNone\u001b[39;00m\n\u001b[32m   1039\u001b[39m     \u001b[38;5;28;01mbreak\u001b[39;00m\n\u001b[32m   1041\u001b[39m \u001b[38;5;28;01massert\u001b[39;00m response \u001b[38;5;129;01mis\u001b[39;00m \u001b[38;5;129;01mnot\u001b[39;00m \u001b[38;5;28;01mNone\u001b[39;00m, \u001b[33m\"\u001b[39m\u001b[33mcould not resolve response (should never happen)\u001b[39m\u001b[33m\"\u001b[39m\n",
      "\u001b[31mAuthenticationError\u001b[39m: Error code: 401 - {'statusCode': 401, 'message': 'Unauthorized. Access token is missing, invalid, audience is incorrect (https://ai.azure.com), or have expired.'}"
     ]
    }
   ],
   "source": [
    "from pymongo import MongoClient\n",
    "\n",
    "# INDEX_NAME = \"izzy-test-index-2\"\n",
    "# NAMESPACE = \"izzy_test_db.izzy_test_collection\"\n",
    "# DB_NAME, COLLECTION_NAME = NAMESPACE.split(\".\")\n",
    "\n",
    "client: MongoClient = MongoClient(CONNECTION_STRING)\n",
    "collection = client[DB_NAME][COLLECTION_NAME]\n",
    "\n",
    "# OpenAI Settings\n",
    "model_deployment = os.getenv(\n",
    "    \"OPENAI_EMBEDDINGS_DEPLOYMENT\", \"smart-agent-embedding-ada\"\n",
    ")\n",
    "model_name = os.getenv(\"OPENAI_EMBEDDINGS_MODEL_NAME\", \"text-embedding-ada-002\")\n",
    "\n",
    "\n",
    "openai_embeddings: AzureOpenAIEmbeddings = AzureOpenAIEmbeddings(\n",
    "    model=model_name, chunk_size=1\n",
    ")\n",
    "\n",
    "vectorstore = AzureCosmosDBVectorSearch.from_documents(\n",
    "    docs,\n",
    "    openai_embeddings,\n",
    "    collection=collection,\n",
    "    index_name=INDEX_NAME,\n",
    ")\n",
    "\n",
    "# Read more about these variables in detail here. https://learn.microsoft.com/en-us/azure/cosmos-db/mongodb/vcore/vector-search\n",
    "num_lists = 100\n",
    "dimensions = 1536\n",
    "similarity_algorithm = CosmosDBSimilarityType.COS\n",
    "kind = CosmosDBVectorSearchType.VECTOR_IVF\n",
    "m = 16\n",
    "ef_construction = 64\n",
    "ef_search = 40\n",
    "score_threshold = 0.1\n",
    "\n",
    "vectorstore.create_index(\n",
    "    num_lists, dimensions, similarity_algorithm, kind, m, ef_construction\n",
    ")"
   ]
  },
  {
   "cell_type": "code",
   "execution_count": null,
   "id": "32c68d3246adc21f",
   "metadata": {
    "ExecuteTime": {
     "end_time": "2024-02-08T18:31:47.468902Z",
     "start_time": "2024-02-08T18:31:46.053602Z"
    }
   },
   "outputs": [],
   "source": [
    "# perform a similarity search between the embedding of the query and the embeddings of the documents\n",
    "query = \"What did the president say about Ketanji Brown Jackson\"\n",
    "docs = vectorstore.similarity_search(query)"
   ]
  },
  {
   "cell_type": "code",
   "execution_count": null,
   "id": "8feeeb4364efb204",
   "metadata": {
    "ExecuteTime": {
     "end_time": "2024-02-08T18:31:50.982598Z",
     "start_time": "2024-02-08T18:31:50.977605Z"
    }
   },
   "outputs": [],
   "source": [
    "print(docs[0].page_content)"
   ]
  },
  {
   "cell_type": "markdown",
   "id": "37e4df8c7d7db851",
   "metadata": {},
   "source": [
    "Once the documents have been loaded and the index has been created, you can now instantiate the vector store directly and run queries against the index"
   ]
  },
  {
   "cell_type": "code",
   "execution_count": null,
   "id": "3c218ab6f59301f7",
   "metadata": {
    "ExecuteTime": {
     "end_time": "2024-02-08T18:32:14.299599Z",
     "start_time": "2024-02-08T18:32:12.923464Z"
    }
   },
   "outputs": [],
   "source": [
    "vectorstore = AzureCosmosDBVectorSearch.from_connection_string(\n",
    "    CONNECTION_STRING, NAMESPACE, openai_embeddings, index_name=INDEX_NAME\n",
    ")\n",
    "\n",
    "# perform a similarity search between a query and the ingested documents\n",
    "query = \"What did the president say about Ketanji Brown Jackson\"\n",
    "docs = vectorstore.similarity_search(query)\n",
    "\n",
    "print(docs[0].page_content)"
   ]
  },
  {
   "cell_type": "code",
   "execution_count": null,
   "id": "fd67e4d92c9ab32f",
   "metadata": {
    "ExecuteTime": {
     "end_time": "2024-02-08T18:32:24.021434Z",
     "start_time": "2024-02-08T18:32:22.867658Z"
    }
   },
   "outputs": [],
   "source": [
    "vectorstore = AzureCosmosDBVectorSearch(\n",
    "    collection, openai_embeddings, index_name=INDEX_NAME\n",
    ")\n",
    "\n",
    "# perform a similarity search between a query and the ingested documents\n",
    "query = \"What did the president say about Ketanji Brown Jackson\"\n",
    "docs = vectorstore.similarity_search(query)\n",
    "\n",
    "print(docs[0].page_content)"
   ]
  },
  {
   "cell_type": "markdown",
   "id": "b63c73c7e905001c",
   "metadata": {},
   "source": [
    "## Filtered vector search (Preview)\n",
    "Azure Cosmos DB for MongoDB supports pre-filtering with $lt, $lte, $eq, $neq, $gte, $gt, $in, $nin, and $regex. To use this feature, enable \"filtering vector search\" in the \"Preview Features\" tab of your Azure Subscription. Learn more about preview features [here](https://learn.microsoft.com/azure/cosmos-db/mongodb/vcore/vector-search#filtered-vector-search-preview)."
   ]
  },
  {
   "cell_type": "code",
   "execution_count": null,
   "id": "19c43de6-47f9-45f0-a422-8d852a5d191f",
   "metadata": {},
   "outputs": [],
   "source": [
    "# create a filter index\n",
    "vectorstore.create_filter_index(\n",
    "    property_to_filter=\"metadata.source\", index_name=\"filter_index\"\n",
    ")"
   ]
  },
  {
   "cell_type": "code",
   "execution_count": null,
   "id": "c7031279-dfb8-43f2-a7a8-d10a3786023b",
   "metadata": {},
   "outputs": [],
   "source": [
    "query = \"What did the president say about Ketanji Brown Jackson\"\n",
    "docs = vectorstore.similarity_search(\n",
    "    query, pre_filter={\"metadata.source\": {\"$ne\": \"filter content\"}}\n",
    ")"
   ]
  },
  {
   "cell_type": "code",
   "execution_count": null,
   "id": "3860be72-d293-43b9-a727-425f166ff6c6",
   "metadata": {},
   "outputs": [],
   "source": [
    "len(docs)"
   ]
  },
  {
   "cell_type": "code",
   "execution_count": null,
   "id": "b7fb9800-b1cf-4315-af9d-e8c572d3e05f",
   "metadata": {},
   "outputs": [],
   "source": [
    "docs = vectorstore.similarity_search(\n",
    "    query,\n",
    "    pre_filter={\"metadata.source\": {\"$ne\": \"../../how_to/state_of_the_union.txt\"}},\n",
    ")"
   ]
  },
  {
   "cell_type": "code",
   "execution_count": null,
   "id": "dba9d39e-6220-4fad-84fa-e123aa7ca6e4",
   "metadata": {},
   "outputs": [],
   "source": [
    "len(docs)"
   ]
  },
  {
   "cell_type": "code",
   "execution_count": null,
   "id": "25ea7250-6e8f-48e6-aac9-196effbdc8d8",
   "metadata": {},
   "outputs": [],
   "source": []
  }
 ],
 "metadata": {
  "kernelspec": {
   "display_name": "Python 3",
   "language": "python",
   "name": "python3"
  },
  "language_info": {
   "codemirror_mode": {
    "name": "ipython",
    "version": 3
   },
   "file_extension": ".py",
   "mimetype": "text/x-python",
   "name": "python",
   "nbconvert_exporter": "python",
   "pygments_lexer": "ipython3",
   "version": "3.11.13"
  }
 },
 "nbformat": 4,
 "nbformat_minor": 5
}

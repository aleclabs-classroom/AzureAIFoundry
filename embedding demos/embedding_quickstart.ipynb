{
 "cells": [
  {
   "cell_type": "code",
   "execution_count": 2,
   "id": "11165ca8",
   "metadata": {},
   "outputs": [
    {
     "name": "stdout",
     "output_type": "stream",
     "text": [
      "Client successfully authenticated!\n"
     ]
    }
   ],
   "source": [
    "\"\"\"\n",
    "developed from https://learn.microsoft.com/en-us/azure/ai-foundry/how-to/develop/sdk-overview?pivots=programming-language-python\n",
    "\"\"\"\n",
    "from dotenv import load_dotenv\n",
    "import os\n",
    "# import asyncio\n",
    "# from azure.ai.projects.aio import AIProjectClient\n",
    "from azure.ai.projects import AIProjectClient\n",
    "from azure.identity import DefaultAzureCredential\n",
    "\n",
    "load_dotenv() # read from a .env file\n",
    "\n",
    "# global variables\n",
    "project_endpoint=os.getenv(\"PROJECT_ENDPOINT\")\n",
    "api_version=os.getenv(\"API_VERSION\")\n",
    "api_key=os.getenv(\"API_KEY\")\n",
    "model_deployment_name=os.getenv(\"MODEL_DEPLOYMENT_NAME\")\n",
    "\n",
    "try:\n",
    "    project_client = AIProjectClient(\n",
    "        endpoint=project_endpoint,\n",
    "        credential=DefaultAzureCredential(),\n",
    "    )\n",
    "    print(\"Client successfully authenticated!\")\n",
    "        # You can now proceed to interact with your project\n",
    "\n",
    "except Exception as ex:\n",
    "    print(f\"Authentication failed: {ex}\")\n",
    "    # Handle authentication errors"
   ]
  },
  {
   "cell_type": "code",
   "execution_count": 3,
   "id": "6b9fd93a",
   "metadata": {},
   "outputs": [
    {
     "name": "stdout",
     "output_type": "stream",
     "text": [
      "List models\n",
      "{'name': 'gpt-4o-mini', 'type': 'ModelDeployment', 'modelName': 'gpt-4o-mini', 'modelVersion': '2024-07-18', 'modelPublisher': 'OpenAI', 'capabilities': {'chat_completion': 'true'}, 'sku': {'name': 'GlobalStandard', 'capacity': 100}}\n",
      "{'name': 'text-embedding-ada-002', 'type': 'ModelDeployment', 'modelName': 'text-embedding-ada-002', 'modelVersion': '2', 'modelPublisher': 'OpenAI', 'capabilities': {'embeddings': 'true'}, 'sku': {'name': 'GlobalStandard', 'capacity': 150}}\n",
      "List all connections:\n",
      "List latest versions of all Datasets:\n"
     ]
    }
   ],
   "source": [
    "\"\"\"\n",
    "from https://learn.microsoft.com/en-us/python/api/overview/azure/ai-projects-readme?view=azure-python-preview\n",
    "\"\"\"\n",
    "# After successful authentication, attempt to list models\n",
    "try:\n",
    "    print(\"List models\")\n",
    "    for deployment in project_client.deployments.list():\n",
    "        print(deployment)\n",
    "    print(\"List all connections:\")\n",
    "    for connection in project_client.connections.list():\n",
    "        print(connection)\n",
    "    print(\"List latest versions of all Datasets:\")\n",
    "    for dataset in project_client.datasets.list():\n",
    "        print(dataset)\n",
    "except Exception as ex:\n",
    "    print(f\"Failed to interact with project: {ex}\")\n",
    "    # Handle potential errors during project interaction"
   ]
  },
  {
   "cell_type": "code",
   "execution_count": 4,
   "id": "a82292e5",
   "metadata": {},
   "outputs": [],
   "source": [
    "\"\"\"\n",
    "the program that follows is from https://learn.microsoft.com/en-us/azure/ai-services/openai/tutorials/embeddings?tabs=python-new%2Ccommand-line&pivots=programming-language-python\n",
    "\"\"\"\n",
    "import os\n",
    "import re\n",
    "import requests\n",
    "import sys\n",
    "from num2words import num2words\n",
    "import os\n",
    "import pandas as pd\n",
    "import numpy as np\n",
    "import tiktoken\n",
    "from openai import AzureOpenAI"
   ]
  },
  {
   "cell_type": "code",
   "execution_count": 6,
   "id": "0e88ac74",
   "metadata": {},
   "outputs": [
    {
     "name": "stdout",
     "output_type": "stream",
     "text": [
      "                                                 text  \\\n",
      "0   SECTION 1. SHORT TITLE.\\n\\n    This Act may be...   \n",
      "1   SECTION 1. SHORT TITLE.\\n\\n    This Act may be...   \n",
      "2   SECTION 1. RELEASE OF DOCUMENTS CAPTURED IN IR...   \n",
      "3   SECTION 1. SHORT TITLE.\\n\\n    This Act may be...   \n",
      "4   SECTION 1. SHORT TITLE.\\n\\n    This Act may be...   \n",
      "5   SECTION 1. RELIQUIDATION OF CERTAIN ENTRIES PR...   \n",
      "6   SECTION 1. SHORT TITLE.\\n\\n    This Act may be...   \n",
      "7   SECTION 1. SHORT TITLE.\\n\\n    This Act may be...   \n",
      "8   SECTION 1. SHORT TITLE.\\n\\n    This Act may be...   \n",
      "9   SECTION 1. SHORT TITLE.\\n\\n    This Act may be...   \n",
      "10  SECTION 1. SHORT TITLE.\\n\\n    This Act may be...   \n",
      "11  SECTION 1. SHORT TITLE.\\n\\n    This Act may be...   \n",
      "12  SECTION 1. FINDINGS.\\n\\n    The Congress finds...   \n",
      "13  SECTION 1. SHORT TITLE.\\n\\n    This Act may be...   \n",
      "14  SECTION 1. SHORT TITLE.\\n\\n    This Act may be...   \n",
      "15  SECTION 1. SHORT TITLE.\\n\\n    This Act may be...   \n",
      "16  SECTION 1. SHORT TITLE.\\n\\n    This Act may be...   \n",
      "17  SECTION 1. SHORT TITLE.\\n\\n    This Act may be...   \n",
      "18  SECTION 1. SHORT TITLE.\\n    This Act may be c...   \n",
      "19  SECTION 1. SHORT TITLE.\\n\\n    This Act may be...   \n",
      "\n",
      "                                              summary  \\\n",
      "0   National Science Education Tax Incentive for B...   \n",
      "1   Small Business Expansion and Hiring Act of 201...   \n",
      "2   Requires the Director of National Intelligence...   \n",
      "3   National Cancer Act of 2003 - Amends the Publi...   \n",
      "4   Military Call-up Relief Act - Amends the Inter...   \n",
      "5   Requires the Customs Service to reliquidate ce...   \n",
      "6   Service Dogs for Veterans Act of 2009 - Direct...   \n",
      "7   Race to the Top Act of 2010 - Directs the Secr...   \n",
      "8   Troop Talent Act of 2013 - Directs the Secreta...   \n",
      "9   Taxpayer's Right to View Act of 1993 - Amends ...   \n",
      "10  Full-Service Schools Act - Establishes the Fed...   \n",
      "11  Wall Street Compensation Reform Act of 2010 - ...   \n",
      "12  Amends the Marine Mammal Protection Act of 197...   \n",
      "13  Freedom and Mobility in Consumer Banking Act -...   \n",
      "14  Education and Training for Health Act of 2017 ...   \n",
      "15  Recreational Hunting Safety and Preservation A...   \n",
      "16  Andrew Prior Act or Andrew's Law - Amends the ...   \n",
      "17  Directs the President, in coordination with de...   \n",
      "18  This measure has not been amended since it was...   \n",
      "19  Strengthening the Health Care Safety Net Act o...   \n",
      "\n",
      "                                                title  \n",
      "0   To amend the Internal Revenue Code of 1986 to ...  \n",
      "1   To amend the Internal Revenue Code of 1986 to ...  \n",
      "2   A bill to require the Director of National Int...  \n",
      "3   A bill to improve data collection and dissemin...  \n",
      "4   A bill to amend the Internal Revenue Code of 1...  \n",
      "5   To provide for reliquidation of entries premat...  \n",
      "6   A bill to require the Secretary of Veterans Af...  \n",
      "7   A bill to provide incentives for States and lo...  \n",
      "8                            Troop Talent Act of 2013  \n",
      "9                Taxpayer's Right to View Act of 1993  \n",
      "10                           Full-Service Schools Act  \n",
      "11  A bill to amend the Internal Revenue Code of 1...  \n",
      "12  To amend the Marine Mammal Protection Act of 1...  \n",
      "13       Freedom and Mobility in Consumer Banking Act  \n",
      "14      Education and Training for Health Act of 2017  \n",
      "15  Recreational Hunting Safety and Preservation A...  \n",
      "16                                       Andrew's Law  \n",
      "17                    Energy Independence Act of 2000  \n",
      "18              Veterans Entrepreneurship Act of 2015  \n",
      "19  To amend title XIX of the Social Security Act ...  \n"
     ]
    }
   ],
   "source": [
    "# !curl \"https://raw.githubusercontent.com/Azure-Samples/Azure-OpenAI-Docs-Samples/main/Samples/Tutorials/Embeddings/data/bill_sum_data.csv\" --output ../data/bill_sum_data.csv\n",
    "# read file to dataframe\n",
    "# cwd is eus2Foundry/POC\n",
    "df=pd.read_csv(os.path.join(os.getcwd(),'../data/example_data/bill_sum_data.csv')) # This assumes that you have placed the data in the same directory you are running Jupyter Notebooks\n",
    "df_bills = df[['text', 'summary', 'title']] # get relevant columns\n",
    "print(df_bills)"
   ]
  },
  {
   "cell_type": "code",
   "execution_count": 7,
   "id": "9f5647c6",
   "metadata": {},
   "outputs": [],
   "source": [
    "# clean the data\n",
    "pd.options.mode.chained_assignment = None #https://pandas.pydata.org/pandas-docs/stable/user_guide/indexing.html#evaluation-order-matters\n",
    "\n",
    "# s is input text\n",
    "def normalize_text(s, sep_token = \" \\n \"):\n",
    "    s = re.sub(r'\\s+',  ' ', s).strip()\n",
    "    s = re.sub(r\". ,\",\"\",s)\n",
    "    # remove all instances of multiple spaces\n",
    "    s = s.replace(\"..\",\".\")\n",
    "    s = s.replace(\". .\",\".\")\n",
    "    s = s.replace(\"\\n\", \"\")\n",
    "    s = s.strip()\n",
    "    \n",
    "    return s\n",
    "\n",
    "df_bills['text']= df_bills[\"text\"].apply(lambda x : normalize_text(x))"
   ]
  },
  {
   "cell_type": "code",
   "execution_count": 8,
   "id": "e71d66ea",
   "metadata": {},
   "outputs": [
    {
     "name": "stdout",
     "output_type": "stream",
     "text": [
      "20\n",
      "1466\n"
     ]
    }
   ],
   "source": [
    "#get rows that fit within the token limit\n",
    "tokenizer = tiktoken.get_encoding(\"cl100k_base\")\n",
    "df_bills['n_tokens'] = df_bills[\"text\"].apply(lambda x: len(tokenizer.encode(x)))\n",
    "df_bills = df_bills[df_bills.n_tokens<8192]\n",
    "print(len(df_bills))\n",
    "\n",
    "#run a sample decoding\n",
    "sample_encode = tokenizer.encode(df_bills.text[0]) \n",
    "decode = tokenizer.decode_tokens_bytes(sample_encode)\n",
    "# decode\n",
    "print(len(decode)) # length of decode should match the first number in the n_tokens column."
   ]
  },
  {
   "cell_type": "code",
   "execution_count": 13,
   "id": "3e475aad",
   "metadata": {},
   "outputs": [
    {
     "name": "stdout",
     "output_type": "stream",
     "text": [
      "0     [-0.02267872914671898, -0.007992359809577465, ...\n",
      "1     [-0.04170488566160202, -0.009005059488117695, ...\n",
      "2     [-0.04132331907749176, -0.003348014783114195, ...\n",
      "3     [-0.01324405800551176, -0.007176324725151062, ...\n",
      "4     [-0.039218343794345856, -0.025535382330417633,...\n",
      "5     [-0.0161741953343153, -0.015271888114511967, -...\n",
      "6     [-0.029834134504199028, -0.02190781757235527, ...\n",
      "7     [-0.020702334120869637, 0.0001488598354626447,...\n",
      "8     [-0.030133171007037163, -0.01693500205874443, ...\n",
      "9     [-0.01855595037341118, -0.024811504408717155, ...\n",
      "10    [-0.010150817222893238, 0.01538650132715702, -...\n",
      "11    [-0.047342102974653244, -0.007811839692294598,...\n",
      "12    [-0.025587040930986404, -0.0011422785464674234...\n",
      "13    [-0.024635160341858864, 0.002062863437458873, ...\n",
      "14    [-0.003213866613805294, -0.0001977748179342597...\n",
      "15    [-0.022666214033961296, -0.00746437581256032, ...\n",
      "16    [-0.03329809382557869, -0.009988118894398212, ...\n",
      "17    [0.0029726256616413593, -0.024095812812447548,...\n",
      "18    [-0.022526707500219345, -0.030131598934531212,...\n",
      "19    [-0.017813047394156456, -0.007111724466085434,...\n",
      "Name: ada_v2, dtype: object\n"
     ]
    }
   ],
   "source": [
    "embedding_model_name=os.getenv(\"EMBEDDING_MODEL_NAME\")\n",
    "embedding_api_version=os.getenv(\"EMBEDDING_API_VERSION\")\n",
    "\n",
    "def generate_embeddings(text, model=embedding_model_name): \n",
    "    embeddings_client = project_client.inference.get_azure_openai_client(api_version=embedding_api_version)\n",
    "    return embeddings_client.embeddings.create(input=[text],model=embedding_model_name).data[0].embedding\n",
    "\n",
    "df_bills['ada_v2'] = df_bills[\"text\"].apply(lambda x : generate_embeddings (x, model = 'text-embedding-ada-002')) # model should be set to the deployment name you chose when you deployed the text-embedding-ada-002 (Version 2) model\n",
    "print(df_bills['ada_v2'])"
   ]
  },
  {
   "cell_type": "code",
   "execution_count": 14,
   "id": "ab0141d4",
   "metadata": {},
   "outputs": [
    {
     "data": {
      "text/html": [
       "<div>\n",
       "<style scoped>\n",
       "    .dataframe tbody tr th:only-of-type {\n",
       "        vertical-align: middle;\n",
       "    }\n",
       "\n",
       "    .dataframe tbody tr th {\n",
       "        vertical-align: top;\n",
       "    }\n",
       "\n",
       "    .dataframe thead th {\n",
       "        text-align: right;\n",
       "    }\n",
       "</style>\n",
       "<table border=\"1\" class=\"dataframe\">\n",
       "  <thead>\n",
       "    <tr style=\"text-align: right;\">\n",
       "      <th></th>\n",
       "      <th>text</th>\n",
       "      <th>summary</th>\n",
       "      <th>title</th>\n",
       "      <th>n_tokens</th>\n",
       "      <th>ada_v2</th>\n",
       "      <th>similarities</th>\n",
       "    </tr>\n",
       "  </thead>\n",
       "  <tbody>\n",
       "    <tr>\n",
       "      <th>9</th>\n",
       "      <td>SECTION 1. SHORT TITLE. This Act may be cited ...</td>\n",
       "      <td>Taxpayer's Right to View Act of 1993 - Amends ...</td>\n",
       "      <td>Taxpayer's Right to View Act of 1993</td>\n",
       "      <td>947</td>\n",
       "      <td>[-0.01855595037341118, -0.024811504408717155, ...</td>\n",
       "      <td>0.819255</td>\n",
       "    </tr>\n",
       "    <tr>\n",
       "      <th>1</th>\n",
       "      <td>SECTION 1. SHORT TITLE. This Act may be cited ...</td>\n",
       "      <td>Small Business Expansion and Hiring Act of 201...</td>\n",
       "      <td>To amend the Internal Revenue Code of 1986 to ...</td>\n",
       "      <td>1183</td>\n",
       "      <td>[-0.04170488566160202, -0.009005059488117695, ...</td>\n",
       "      <td>0.734238</td>\n",
       "    </tr>\n",
       "    <tr>\n",
       "      <th>11</th>\n",
       "      <td>SECTION 1. SHORT TITLE. This Act may be cited ...</td>\n",
       "      <td>Wall Street Compensation Reform Act of 2010 - ...</td>\n",
       "      <td>A bill to amend the Internal Revenue Code of 1...</td>\n",
       "      <td>2331</td>\n",
       "      <td>[-0.047342102974653244, -0.007811839692294598,...</td>\n",
       "      <td>0.733729</td>\n",
       "    </tr>\n",
       "    <tr>\n",
       "      <th>19</th>\n",
       "      <td>SECTION 1. SHORT TITLE. This Act may be cited ...</td>\n",
       "      <td>Strengthening the Health Care Safety Net Act o...</td>\n",
       "      <td>To amend title XIX of the Social Security Act ...</td>\n",
       "      <td>2678</td>\n",
       "      <td>[-0.017813047394156456, -0.007111724466085434,...</td>\n",
       "      <td>0.732839</td>\n",
       "    </tr>\n",
       "  </tbody>\n",
       "</table>\n",
       "</div>"
      ],
      "text/plain": [
       "                                                 text  \\\n",
       "9   SECTION 1. SHORT TITLE. This Act may be cited ...   \n",
       "1   SECTION 1. SHORT TITLE. This Act may be cited ...   \n",
       "11  SECTION 1. SHORT TITLE. This Act may be cited ...   \n",
       "19  SECTION 1. SHORT TITLE. This Act may be cited ...   \n",
       "\n",
       "                                              summary  \\\n",
       "9   Taxpayer's Right to View Act of 1993 - Amends ...   \n",
       "1   Small Business Expansion and Hiring Act of 201...   \n",
       "11  Wall Street Compensation Reform Act of 2010 - ...   \n",
       "19  Strengthening the Health Care Safety Net Act o...   \n",
       "\n",
       "                                                title  n_tokens  \\\n",
       "9                Taxpayer's Right to View Act of 1993       947   \n",
       "1   To amend the Internal Revenue Code of 1986 to ...      1183   \n",
       "11  A bill to amend the Internal Revenue Code of 1...      2331   \n",
       "19  To amend title XIX of the Social Security Act ...      2678   \n",
       "\n",
       "                                               ada_v2  similarities  \n",
       "9   [-0.01855595037341118, -0.024811504408717155, ...      0.819255  \n",
       "1   [-0.04170488566160202, -0.009005059488117695, ...      0.734238  \n",
       "11  [-0.047342102974653244, -0.007811839692294598,...      0.733729  \n",
       "19  [-0.017813047394156456, -0.007111724466085434,...      0.732839  "
      ]
     },
     "metadata": {},
     "output_type": "display_data"
    }
   ],
   "source": [
    "def cosine_similarity(a, b):\n",
    "    return np.dot(a, b) / (np.linalg.norm(a) * np.linalg.norm(b))\n",
    "\n",
    "def search_docs(df, user_query, top_n=4, to_print=True):\n",
    "    embedding = generate_embeddings(user_query)\n",
    "    df[\"similarities\"] = df.ada_v2.apply(lambda x: cosine_similarity(x, embedding))\n",
    "\n",
    "    res = (\n",
    "        df.sort_values(\"similarities\", ascending=False)\n",
    "        .head(top_n)\n",
    "    )\n",
    "    if to_print:\n",
    "        display(res)\n",
    "    return res\n",
    "\n",
    "user_query=\"Can I get information on cable company tax revenue?\"\n",
    "res = search_docs(df_bills, user_query, top_n=4)"
   ]
  },
  {
   "cell_type": "code",
   "execution_count": 15,
   "id": "82d2aa29",
   "metadata": {},
   "outputs": [
    {
     "data": {
      "text/plain": [
       "\"Taxpayer's Right to View Act of 1993 - Amends the Communications Act of 1934 to prohibit a cable operator from assessing separate charges for any video programming of a sporting, theatrical, or other entertainment event if that event is performed at a facility constructed, renovated, or maintained with tax revenues or by an organization that receives public financial support. Authorizes the Federal Communications Commission and local franchising authorities to make determinations concerning the applicability of such prohibition. Sets forth conditions under which a facility is considered to have been constructed, maintained, or renovated with tax revenues. Considers events performed by nonprofit or public organizations that receive tax subsidies to be subject to this Act if the event is sponsored by, or includes the participation of a team that is part of, a tax exempt organization.\""
      ]
     },
     "execution_count": 15,
     "metadata": {},
     "output_type": "execute_result"
    }
   ],
   "source": [
    "res[\"summary\"][9]"
   ]
  }
 ],
 "metadata": {
  "kernelspec": {
   "display_name": ".conda",
   "language": "python",
   "name": "python3"
  },
  "language_info": {
   "codemirror_mode": {
    "name": "ipython",
    "version": 3
   },
   "file_extension": ".py",
   "mimetype": "text/x-python",
   "name": "python",
   "nbconvert_exporter": "python",
   "pygments_lexer": "ipython3",
   "version": "3.9.7"
  }
 },
 "nbformat": 4,
 "nbformat_minor": 5
}

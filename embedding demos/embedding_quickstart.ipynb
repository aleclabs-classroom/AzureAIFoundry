{
 "cells": [
  {
   "cell_type": "code",
   "execution_count": 2,
   "id": "11165ca8",
   "metadata": {},
   "outputs": [
    {
     "name": "stdout",
     "output_type": "stream",
     "text": [
      "Client successfully authenticated!\n"
     ]
    }
   ],
   "source": [
    "\"\"\"\n",
    "developed from https://learn.microsoft.com/en-us/azure/ai-foundry/how-to/develop/sdk-overview?pivots=programming-language-python\n",
    "\"\"\"\n",
    "from dotenv import load_dotenv\n",
    "import os\n",
    "# import asyncio\n",
    "# from azure.ai.projects.aio import AIProjectClient\n",
    "from azure.ai.projects import AIProjectClient\n",
    "from azure.identity import DefaultAzureCredential\n",
    "\n",
    "load_dotenv() # read from a .env file\n",
    "\n",
    "# global variables\n",
    "project_endpoint=os.getenv(\"PROJECT_ENDPOINT\")\n",
    "api_version=os.getenv(\"API_VERSION\")\n",
    "api_key=os.getenv(\"API_KEY\")\n",
    "model_deployment_name=os.getenv(\"MODEL_DEPLOYMENT_NAME\")\n",
    "\n",
    "try:\n",
    "    project_client = AIProjectClient(\n",
    "        endpoint=project_endpoint,\n",
    "        credential=DefaultAzureCredential(),\n",
    "    )\n",
    "    print(\"Client successfully authenticated!\")\n",
    "        # You can now proceed to interact with your project\n",
    "\n",
    "except Exception as ex:\n",
    "    print(f\"Authentication failed: {ex}\")\n",
    "    # Handle authentication errors"
   ]
  },
  {
   "cell_type": "code",
   "execution_count": 3,
   "id": "6b9fd93a",
   "metadata": {},
   "outputs": [
    {
     "name": "stdout",
     "output_type": "stream",
     "text": [
      "List models\n",
      "{'name': 'gpt-4o-mini', 'type': 'ModelDeployment', 'modelName': 'gpt-4o-mini', 'modelVersion': '2024-07-18', 'modelPublisher': 'OpenAI', 'capabilities': {'chat_completion': 'true'}, 'sku': {'name': 'GlobalStandard', 'capacity': 100}}\n",
      "{'name': 'text-embedding-ada-002', 'type': 'ModelDeployment', 'modelName': 'text-embedding-ada-002', 'modelVersion': '2', 'modelPublisher': 'OpenAI', 'capabilities': {'embeddings': 'true'}, 'sku': {'name': 'GlobalStandard', 'capacity': 150}}\n",
      "List all connections:\n",
      "List latest versions of all Datasets:\n"
     ]
    }
   ],
   "source": [
    "\"\"\"\n",
    "from https://learn.microsoft.com/en-us/python/api/overview/azure/ai-projects-readme?view=azure-python-preview\n",
    "\"\"\"\n",
    "# After successful authentication, attempt to list models\n",
    "try:\n",
    "    print(\"List models\")\n",
    "    for deployment in project_client.deployments.list():\n",
    "        print(deployment)\n",
    "    print(\"List all connections:\")\n",
    "    for connection in project_client.connections.list():\n",
    "        print(connection)\n",
    "    print(\"List latest versions of all Datasets:\")\n",
    "    for dataset in project_client.datasets.list():\n",
    "        print(dataset)\n",
    "except Exception as ex:\n",
    "    print(f\"Failed to interact with project: {ex}\")\n",
    "    # Handle potential errors during project interaction"
   ]
  },
  {
   "cell_type": "code",
   "execution_count": 4,
   "id": "a82292e5",
   "metadata": {},
   "outputs": [],
   "source": [
    "\"\"\"\n",
    "the program that follows is from https://learn.microsoft.com/en-us/azure/ai-services/openai/tutorials/embeddings?tabs=python-new%2Ccommand-line&pivots=programming-language-python\n",
    "\"\"\"\n",
    "import os\n",
    "import re\n",
    "import requests\n",
    "import sys\n",
    "from num2words import num2words\n",
    "import os\n",
    "import pandas as pd\n",
    "import numpy as np\n",
    "import tiktoken\n",
    "from openai import AzureOpenAI"
   ]
  },
  {
   "cell_type": "code",
   "execution_count": 6,
   "id": "0e88ac74",
   "metadata": {},
   "outputs": [
    {
     "name": "stdout",
     "output_type": "stream",
     "text": [
      "                                                 text  \\\n",
      "0   SECTION 1. SHORT TITLE.\\n\\n    This Act may be...   \n",
      "1   SECTION 1. SHORT TITLE.\\n\\n    This Act may be...   \n",
      "2   SECTION 1. RELEASE OF DOCUMENTS CAPTURED IN IR...   \n",
      "3   SECTION 1. SHORT TITLE.\\n\\n    This Act may be...   \n",
      "4   SECTION 1. SHORT TITLE.\\n\\n    This Act may be...   \n",
      "5   SECTION 1. RELIQUIDATION OF CERTAIN ENTRIES PR...   \n",
      "6   SECTION 1. SHORT TITLE.\\n\\n    This Act may be...   \n",
      "7   SECTION 1. SHORT TITLE.\\n\\n    This Act may be...   \n",
      "8   SECTION 1. SHORT TITLE.\\n\\n    This Act may be...   \n",
      "9   SECTION 1. SHORT TITLE.\\n\\n    This Act may be...   \n",
      "10  SECTION 1. SHORT TITLE.\\n\\n    This Act may be...   \n",
      "11  SECTION 1. SHORT TITLE.\\n\\n    This Act may be...   \n",
      "12  SECTION 1. FINDINGS.\\n\\n    The Congress finds...   \n",
      "13  SECTION 1. SHORT TITLE.\\n\\n    This Act may be...   \n",
      "14  SECTION 1. SHORT TITLE.\\n\\n    This Act may be...   \n",
      "15  SECTION 1. SHORT TITLE.\\n\\n    This Act may be...   \n",
      "16  SECTION 1. SHORT TITLE.\\n\\n    This Act may be...   \n",
      "17  SECTION 1. SHORT TITLE.\\n\\n    This Act may be...   \n",
      "18  SECTION 1. SHORT TITLE.\\n    This Act may be c...   \n",
      "19  SECTION 1. SHORT TITLE.\\n\\n    This Act may be...   \n",
      "\n",
      "                                              summary  \\\n",
      "0   National Science Education Tax Incentive for B...   \n",
      "1   Small Business Expansion and Hiring Act of 201...   \n",
      "2   Requires the Director of National Intelligence...   \n",
      "3   National Cancer Act of 2003 - Amends the Publi...   \n",
      "4   Military Call-up Relief Act - Amends the Inter...   \n",
      "5   Requires the Customs Service to reliquidate ce...   \n",
      "6   Service Dogs for Veterans Act of 2009 - Direct...   \n",
      "7   Race to the Top Act of 2010 - Directs the Secr...   \n",
      "8   Troop Talent Act of 2013 - Directs the Secreta...   \n",
      "9   Taxpayer's Right to View Act of 1993 - Amends ...   \n",
      "10  Full-Service Schools Act - Establishes the Fed...   \n",
      "11  Wall Street Compensation Reform Act of 2010 - ...   \n",
      "12  Amends the Marine Mammal Protection Act of 197...   \n",
      "13  Freedom and Mobility in Consumer Banking Act -...   \n",
      "14  Education and Training for Health Act of 2017 ...   \n",
      "15  Recreational Hunting Safety and Preservation A...   \n",
      "16  Andrew Prior Act or Andrew's Law - Amends the ...   \n",
      "17  Directs the President, in coordination with de...   \n",
      "18  This measure has not been amended since it was...   \n",
      "19  Strengthening the Health Care Safety Net Act o...   \n",
      "\n",
      "                                                title  \n",
      "0   To amend the Internal Revenue Code of 1986 to ...  \n",
      "1   To amend the Internal Revenue Code of 1986 to ...  \n",
      "2   A bill to require the Director of National Int...  \n",
      "3   A bill to improve data collection and dissemin...  \n",
      "4   A bill to amend the Internal Revenue Code of 1...  \n",
      "5   To provide for reliquidation of entries premat...  \n",
      "6   A bill to require the Secretary of Veterans Af...  \n",
      "7   A bill to provide incentives for States and lo...  \n",
      "8                            Troop Talent Act of 2013  \n",
      "9                Taxpayer's Right to View Act of 1993  \n",
      "10                           Full-Service Schools Act  \n",
      "11  A bill to amend the Internal Revenue Code of 1...  \n",
      "12  To amend the Marine Mammal Protection Act of 1...  \n",
      "13       Freedom and Mobility in Consumer Banking Act  \n",
      "14      Education and Training for Health Act of 2017  \n",
      "15  Recreational Hunting Safety and Preservation A...  \n",
      "16                                       Andrew's Law  \n",
      "17                    Energy Independence Act of 2000  \n",
      "18              Veterans Entrepreneurship Act of 2015  \n",
      "19  To amend title XIX of the Social Security Act ...  \n"
     ]
    }
   ],
   "source": [
    "# !curl \"https://raw.githubusercontent.com/Azure-Samples/Azure-OpenAI-Docs-Samples/main/Samples/Tutorials/Embeddings/data/bill_sum_data.csv\" --output ../data/bill_sum_data.csv\n",
    "# read file to dataframe\n",
    "# cwd is eus2Foundry/POC\n",
    "df=pd.read_csv(os.path.join(os.getcwd(),'../data/example_data/bill_sum_data.csv')) # This assumes that you have placed the data in the same directory you are running Jupyter Notebooks\n",
    "df_bills = df[['text', 'summary', 'title']] # get relevant columns\n",
    "print(df_bills)"
   ]
  },
  {
   "cell_type": "code",
   "execution_count": 7,
   "id": "9f5647c6",
   "metadata": {},
   "outputs": [],
   "source": [
    "# clean the data\n",
    "pd.options.mode.chained_assignment = None #https://pandas.pydata.org/pandas-docs/stable/user_guide/indexing.html#evaluation-order-matters\n",
    "\n",
    "# s is input text\n",
    "def normalize_text(s, sep_token = \" \\n \"):\n",
    "    s = re.sub(r'\\s+',  ' ', s).strip()\n",
    "    s = re.sub(r\". ,\",\"\",s)\n",
    "    # remove all instances of multiple spaces\n",
    "    s = s.replace(\"..\",\".\")\n",
    "    s = s.replace(\". .\",\".\")\n",
    "    s = s.replace(\"\\n\", \"\")\n",
    "    s = s.strip()\n",
    "    \n",
    "    return s\n",
    "\n",
    "df_bills['text']= df_bills[\"text\"].apply(lambda x : normalize_text(x))"
   ]
  },
  {
   "cell_type": "code",
   "execution_count": 8,
   "id": "e71d66ea",
   "metadata": {},
   "outputs": [
    {
     "name": "stdout",
     "output_type": "stream",
     "text": [
      "20\n",
      "1466\n"
     ]
    }
   ],
   "source": [
    "#get rows that fit within the token limit\n",
    "tokenizer = tiktoken.get_encoding(\"cl100k_base\")\n",
    "df_bills['n_tokens'] = df_bills[\"text\"].apply(lambda x: len(tokenizer.encode(x)))\n",
    "df_bills = df_bills[df_bills.n_tokens<8192]\n",
    "print(len(df_bills))\n",
    "\n",
    "#run a sample decoding\n",
    "sample_encode = tokenizer.encode(df_bills.text[0]) \n",
    "decode = tokenizer.decode_tokens_bytes(sample_encode)\n",
    "# decode\n",
    "print(len(decode)) # length of decode should match the first number in the n_tokens column."
   ]
  },
  {
   "cell_type": "code",
   "execution_count": null,
   "id": "3e475aad",
   "metadata": {},
   "outputs": [
    {
     "ename": "AttributeError",
     "evalue": "'InferenceOperations' object has no attribute 'get_embeddings_client'",
     "output_type": "error",
     "traceback": [
      "\u001b[0;31m---------------------------------------------------------------------------\u001b[0m",
      "\u001b[0;31mAttributeError\u001b[0m                            Traceback (most recent call last)",
      "Cell \u001b[0;32mIn[9], line 7\u001b[0m\n\u001b[1;32m      4\u001b[0m     embeddings_client \u001b[38;5;241m=\u001b[39m project_client\u001b[38;5;241m.\u001b[39minference\u001b[38;5;241m.\u001b[39mget_embeddings_client()\n\u001b[1;32m      5\u001b[0m     \u001b[38;5;28;01mreturn\u001b[39;00m embeddings_client\u001b[38;5;241m.\u001b[39membed(\u001b[38;5;28minput\u001b[39m\u001b[38;5;241m=\u001b[39m[text],model\u001b[38;5;241m=\u001b[39membedding_model_name)\u001b[38;5;241m.\u001b[39mdata[\u001b[38;5;241m0\u001b[39m]\u001b[38;5;241m.\u001b[39membedding\n\u001b[0;32m----> 7\u001b[0m df_bills[\u001b[38;5;124m'\u001b[39m\u001b[38;5;124mada_v2\u001b[39m\u001b[38;5;124m'\u001b[39m] \u001b[38;5;241m=\u001b[39m \u001b[43mdf_bills\u001b[49m\u001b[43m[\u001b[49m\u001b[38;5;124;43m\"\u001b[39;49m\u001b[38;5;124;43mtext\u001b[39;49m\u001b[38;5;124;43m\"\u001b[39;49m\u001b[43m]\u001b[49m\u001b[38;5;241;43m.\u001b[39;49m\u001b[43mapply\u001b[49m\u001b[43m(\u001b[49m\u001b[38;5;28;43;01mlambda\u001b[39;49;00m\u001b[43m \u001b[49m\u001b[43mx\u001b[49m\u001b[43m \u001b[49m\u001b[43m:\u001b[49m\u001b[43m \u001b[49m\u001b[43mgenerate_embeddings\u001b[49m\u001b[43m \u001b[49m\u001b[43m(\u001b[49m\u001b[43mx\u001b[49m\u001b[43m,\u001b[49m\u001b[43m \u001b[49m\u001b[43mmodel\u001b[49m\u001b[43m \u001b[49m\u001b[38;5;241;43m=\u001b[39;49m\u001b[43m \u001b[49m\u001b[38;5;124;43m'\u001b[39;49m\u001b[38;5;124;43mtext-embedding-ada-002\u001b[39;49m\u001b[38;5;124;43m'\u001b[39;49m\u001b[43m)\u001b[49m\u001b[43m)\u001b[49m \u001b[38;5;66;03m# model should be set to the deployment name you chose when you deployed the text-embedding-ada-002 (Version 2) model\u001b[39;00m\n\u001b[1;32m      8\u001b[0m \u001b[38;5;28mprint\u001b[39m(df_bills[\u001b[38;5;124m'\u001b[39m\u001b[38;5;124mada_v2\u001b[39m\u001b[38;5;124m'\u001b[39m])\n",
      "File \u001b[0;32m~/Developer/genaiAcademy/AzureAIFoundry/.conda/lib/python3.9/site-packages/pandas/core/series.py:4917\u001b[0m, in \u001b[0;36mSeries.apply\u001b[0;34m(self, func, convert_dtype, args, by_row, **kwargs)\u001b[0m\n\u001b[1;32m   4789\u001b[0m \u001b[38;5;28;01mdef\u001b[39;00m\u001b[38;5;250m \u001b[39m\u001b[38;5;21mapply\u001b[39m(\n\u001b[1;32m   4790\u001b[0m     \u001b[38;5;28mself\u001b[39m,\n\u001b[1;32m   4791\u001b[0m     func: AggFuncType,\n\u001b[0;32m   (...)\u001b[0m\n\u001b[1;32m   4796\u001b[0m     \u001b[38;5;241m*\u001b[39m\u001b[38;5;241m*\u001b[39mkwargs,\n\u001b[1;32m   4797\u001b[0m ) \u001b[38;5;241m-\u001b[39m\u001b[38;5;241m>\u001b[39m DataFrame \u001b[38;5;241m|\u001b[39m Series:\n\u001b[1;32m   4798\u001b[0m \u001b[38;5;250m    \u001b[39m\u001b[38;5;124;03m\"\"\"\u001b[39;00m\n\u001b[1;32m   4799\u001b[0m \u001b[38;5;124;03m    Invoke function on values of Series.\u001b[39;00m\n\u001b[1;32m   4800\u001b[0m \n\u001b[0;32m   (...)\u001b[0m\n\u001b[1;32m   4915\u001b[0m \u001b[38;5;124;03m    dtype: float64\u001b[39;00m\n\u001b[1;32m   4916\u001b[0m \u001b[38;5;124;03m    \"\"\"\u001b[39;00m\n\u001b[0;32m-> 4917\u001b[0m     \u001b[38;5;28;01mreturn\u001b[39;00m \u001b[43mSeriesApply\u001b[49m\u001b[43m(\u001b[49m\n\u001b[1;32m   4918\u001b[0m \u001b[43m        \u001b[49m\u001b[38;5;28;43mself\u001b[39;49m\u001b[43m,\u001b[49m\n\u001b[1;32m   4919\u001b[0m \u001b[43m        \u001b[49m\u001b[43mfunc\u001b[49m\u001b[43m,\u001b[49m\n\u001b[1;32m   4920\u001b[0m \u001b[43m        \u001b[49m\u001b[43mconvert_dtype\u001b[49m\u001b[38;5;241;43m=\u001b[39;49m\u001b[43mconvert_dtype\u001b[49m\u001b[43m,\u001b[49m\n\u001b[1;32m   4921\u001b[0m \u001b[43m        \u001b[49m\u001b[43mby_row\u001b[49m\u001b[38;5;241;43m=\u001b[39;49m\u001b[43mby_row\u001b[49m\u001b[43m,\u001b[49m\n\u001b[1;32m   4922\u001b[0m \u001b[43m        \u001b[49m\u001b[43margs\u001b[49m\u001b[38;5;241;43m=\u001b[39;49m\u001b[43margs\u001b[49m\u001b[43m,\u001b[49m\n\u001b[1;32m   4923\u001b[0m \u001b[43m        \u001b[49m\u001b[43mkwargs\u001b[49m\u001b[38;5;241;43m=\u001b[39;49m\u001b[43mkwargs\u001b[49m\u001b[43m,\u001b[49m\n\u001b[1;32m   4924\u001b[0m \u001b[43m    \u001b[49m\u001b[43m)\u001b[49m\u001b[38;5;241;43m.\u001b[39;49m\u001b[43mapply\u001b[49m\u001b[43m(\u001b[49m\u001b[43m)\u001b[49m\n",
      "File \u001b[0;32m~/Developer/genaiAcademy/AzureAIFoundry/.conda/lib/python3.9/site-packages/pandas/core/apply.py:1427\u001b[0m, in \u001b[0;36mSeriesApply.apply\u001b[0;34m(self)\u001b[0m\n\u001b[1;32m   1424\u001b[0m     \u001b[38;5;28;01mreturn\u001b[39;00m \u001b[38;5;28mself\u001b[39m\u001b[38;5;241m.\u001b[39mapply_compat()\n\u001b[1;32m   1426\u001b[0m \u001b[38;5;66;03m# self.func is Callable\u001b[39;00m\n\u001b[0;32m-> 1427\u001b[0m \u001b[38;5;28;01mreturn\u001b[39;00m \u001b[38;5;28;43mself\u001b[39;49m\u001b[38;5;241;43m.\u001b[39;49m\u001b[43mapply_standard\u001b[49m\u001b[43m(\u001b[49m\u001b[43m)\u001b[49m\n",
      "File \u001b[0;32m~/Developer/genaiAcademy/AzureAIFoundry/.conda/lib/python3.9/site-packages/pandas/core/apply.py:1507\u001b[0m, in \u001b[0;36mSeriesApply.apply_standard\u001b[0;34m(self)\u001b[0m\n\u001b[1;32m   1501\u001b[0m \u001b[38;5;66;03m# row-wise access\u001b[39;00m\n\u001b[1;32m   1502\u001b[0m \u001b[38;5;66;03m# apply doesn't have a `na_action` keyword and for backward compat reasons\u001b[39;00m\n\u001b[1;32m   1503\u001b[0m \u001b[38;5;66;03m# we need to give `na_action=\"ignore\"` for categorical data.\u001b[39;00m\n\u001b[1;32m   1504\u001b[0m \u001b[38;5;66;03m# TODO: remove the `na_action=\"ignore\"` when that default has been changed in\u001b[39;00m\n\u001b[1;32m   1505\u001b[0m \u001b[38;5;66;03m#  Categorical (GH51645).\u001b[39;00m\n\u001b[1;32m   1506\u001b[0m action \u001b[38;5;241m=\u001b[39m \u001b[38;5;124m\"\u001b[39m\u001b[38;5;124mignore\u001b[39m\u001b[38;5;124m\"\u001b[39m \u001b[38;5;28;01mif\u001b[39;00m \u001b[38;5;28misinstance\u001b[39m(obj\u001b[38;5;241m.\u001b[39mdtype, CategoricalDtype) \u001b[38;5;28;01melse\u001b[39;00m \u001b[38;5;28;01mNone\u001b[39;00m\n\u001b[0;32m-> 1507\u001b[0m mapped \u001b[38;5;241m=\u001b[39m \u001b[43mobj\u001b[49m\u001b[38;5;241;43m.\u001b[39;49m\u001b[43m_map_values\u001b[49m\u001b[43m(\u001b[49m\n\u001b[1;32m   1508\u001b[0m \u001b[43m    \u001b[49m\u001b[43mmapper\u001b[49m\u001b[38;5;241;43m=\u001b[39;49m\u001b[43mcurried\u001b[49m\u001b[43m,\u001b[49m\u001b[43m \u001b[49m\u001b[43mna_action\u001b[49m\u001b[38;5;241;43m=\u001b[39;49m\u001b[43maction\u001b[49m\u001b[43m,\u001b[49m\u001b[43m \u001b[49m\u001b[43mconvert\u001b[49m\u001b[38;5;241;43m=\u001b[39;49m\u001b[38;5;28;43mself\u001b[39;49m\u001b[38;5;241;43m.\u001b[39;49m\u001b[43mconvert_dtype\u001b[49m\n\u001b[1;32m   1509\u001b[0m \u001b[43m\u001b[49m\u001b[43m)\u001b[49m\n\u001b[1;32m   1511\u001b[0m \u001b[38;5;28;01mif\u001b[39;00m \u001b[38;5;28mlen\u001b[39m(mapped) \u001b[38;5;129;01mand\u001b[39;00m \u001b[38;5;28misinstance\u001b[39m(mapped[\u001b[38;5;241m0\u001b[39m], ABCSeries):\n\u001b[1;32m   1512\u001b[0m     \u001b[38;5;66;03m# GH#43986 Need to do list(mapped) in order to get treated as nested\u001b[39;00m\n\u001b[1;32m   1513\u001b[0m     \u001b[38;5;66;03m#  See also GH#25959 regarding EA support\u001b[39;00m\n\u001b[1;32m   1514\u001b[0m     \u001b[38;5;28;01mreturn\u001b[39;00m obj\u001b[38;5;241m.\u001b[39m_constructor_expanddim(\u001b[38;5;28mlist\u001b[39m(mapped), index\u001b[38;5;241m=\u001b[39mobj\u001b[38;5;241m.\u001b[39mindex)\n",
      "File \u001b[0;32m~/Developer/genaiAcademy/AzureAIFoundry/.conda/lib/python3.9/site-packages/pandas/core/base.py:921\u001b[0m, in \u001b[0;36mIndexOpsMixin._map_values\u001b[0;34m(self, mapper, na_action, convert)\u001b[0m\n\u001b[1;32m    918\u001b[0m \u001b[38;5;28;01mif\u001b[39;00m \u001b[38;5;28misinstance\u001b[39m(arr, ExtensionArray):\n\u001b[1;32m    919\u001b[0m     \u001b[38;5;28;01mreturn\u001b[39;00m arr\u001b[38;5;241m.\u001b[39mmap(mapper, na_action\u001b[38;5;241m=\u001b[39mna_action)\n\u001b[0;32m--> 921\u001b[0m \u001b[38;5;28;01mreturn\u001b[39;00m \u001b[43malgorithms\u001b[49m\u001b[38;5;241;43m.\u001b[39;49m\u001b[43mmap_array\u001b[49m\u001b[43m(\u001b[49m\u001b[43marr\u001b[49m\u001b[43m,\u001b[49m\u001b[43m \u001b[49m\u001b[43mmapper\u001b[49m\u001b[43m,\u001b[49m\u001b[43m \u001b[49m\u001b[43mna_action\u001b[49m\u001b[38;5;241;43m=\u001b[39;49m\u001b[43mna_action\u001b[49m\u001b[43m,\u001b[49m\u001b[43m \u001b[49m\u001b[43mconvert\u001b[49m\u001b[38;5;241;43m=\u001b[39;49m\u001b[43mconvert\u001b[49m\u001b[43m)\u001b[49m\n",
      "File \u001b[0;32m~/Developer/genaiAcademy/AzureAIFoundry/.conda/lib/python3.9/site-packages/pandas/core/algorithms.py:1743\u001b[0m, in \u001b[0;36mmap_array\u001b[0;34m(arr, mapper, na_action, convert)\u001b[0m\n\u001b[1;32m   1741\u001b[0m values \u001b[38;5;241m=\u001b[39m arr\u001b[38;5;241m.\u001b[39mastype(\u001b[38;5;28mobject\u001b[39m, copy\u001b[38;5;241m=\u001b[39m\u001b[38;5;28;01mFalse\u001b[39;00m)\n\u001b[1;32m   1742\u001b[0m \u001b[38;5;28;01mif\u001b[39;00m na_action \u001b[38;5;129;01mis\u001b[39;00m \u001b[38;5;28;01mNone\u001b[39;00m:\n\u001b[0;32m-> 1743\u001b[0m     \u001b[38;5;28;01mreturn\u001b[39;00m \u001b[43mlib\u001b[49m\u001b[38;5;241;43m.\u001b[39;49m\u001b[43mmap_infer\u001b[49m\u001b[43m(\u001b[49m\u001b[43mvalues\u001b[49m\u001b[43m,\u001b[49m\u001b[43m \u001b[49m\u001b[43mmapper\u001b[49m\u001b[43m,\u001b[49m\u001b[43m \u001b[49m\u001b[43mconvert\u001b[49m\u001b[38;5;241;43m=\u001b[39;49m\u001b[43mconvert\u001b[49m\u001b[43m)\u001b[49m\n\u001b[1;32m   1744\u001b[0m \u001b[38;5;28;01melse\u001b[39;00m:\n\u001b[1;32m   1745\u001b[0m     \u001b[38;5;28;01mreturn\u001b[39;00m lib\u001b[38;5;241m.\u001b[39mmap_infer_mask(\n\u001b[1;32m   1746\u001b[0m         values, mapper, mask\u001b[38;5;241m=\u001b[39misna(values)\u001b[38;5;241m.\u001b[39mview(np\u001b[38;5;241m.\u001b[39muint8), convert\u001b[38;5;241m=\u001b[39mconvert\n\u001b[1;32m   1747\u001b[0m     )\n",
      "File \u001b[0;32mlib.pyx:2972\u001b[0m, in \u001b[0;36mpandas._libs.lib.map_infer\u001b[0;34m()\u001b[0m\n",
      "Cell \u001b[0;32mIn[9], line 7\u001b[0m, in \u001b[0;36m<lambda>\u001b[0;34m(x)\u001b[0m\n\u001b[1;32m      4\u001b[0m     embeddings_client \u001b[38;5;241m=\u001b[39m project_client\u001b[38;5;241m.\u001b[39minference\u001b[38;5;241m.\u001b[39mget_embeddings_client()\n\u001b[1;32m      5\u001b[0m     \u001b[38;5;28;01mreturn\u001b[39;00m embeddings_client\u001b[38;5;241m.\u001b[39membed(\u001b[38;5;28minput\u001b[39m\u001b[38;5;241m=\u001b[39m[text],model\u001b[38;5;241m=\u001b[39membedding_model_name)\u001b[38;5;241m.\u001b[39mdata[\u001b[38;5;241m0\u001b[39m]\u001b[38;5;241m.\u001b[39membedding\n\u001b[0;32m----> 7\u001b[0m df_bills[\u001b[38;5;124m'\u001b[39m\u001b[38;5;124mada_v2\u001b[39m\u001b[38;5;124m'\u001b[39m] \u001b[38;5;241m=\u001b[39m df_bills[\u001b[38;5;124m\"\u001b[39m\u001b[38;5;124mtext\u001b[39m\u001b[38;5;124m\"\u001b[39m]\u001b[38;5;241m.\u001b[39mapply(\u001b[38;5;28;01mlambda\u001b[39;00m x : \u001b[43mgenerate_embeddings\u001b[49m\u001b[43m \u001b[49m\u001b[43m(\u001b[49m\u001b[43mx\u001b[49m\u001b[43m,\u001b[49m\u001b[43m \u001b[49m\u001b[43mmodel\u001b[49m\u001b[43m \u001b[49m\u001b[38;5;241;43m=\u001b[39;49m\u001b[43m \u001b[49m\u001b[38;5;124;43m'\u001b[39;49m\u001b[38;5;124;43mtext-embedding-ada-002\u001b[39;49m\u001b[38;5;124;43m'\u001b[39;49m\u001b[43m)\u001b[49m) \u001b[38;5;66;03m# model should be set to the deployment name you chose when you deployed the text-embedding-ada-002 (Version 2) model\u001b[39;00m\n\u001b[1;32m      8\u001b[0m \u001b[38;5;28mprint\u001b[39m(df_bills[\u001b[38;5;124m'\u001b[39m\u001b[38;5;124mada_v2\u001b[39m\u001b[38;5;124m'\u001b[39m])\n",
      "Cell \u001b[0;32mIn[9], line 4\u001b[0m, in \u001b[0;36mgenerate_embeddings\u001b[0;34m(text, model)\u001b[0m\n\u001b[1;32m      3\u001b[0m \u001b[38;5;28;01mdef\u001b[39;00m\u001b[38;5;250m \u001b[39m\u001b[38;5;21mgenerate_embeddings\u001b[39m(text, model\u001b[38;5;241m=\u001b[39membedding_model_name): \n\u001b[0;32m----> 4\u001b[0m     embeddings_client \u001b[38;5;241m=\u001b[39m \u001b[43mproject_client\u001b[49m\u001b[38;5;241;43m.\u001b[39;49m\u001b[43minference\u001b[49m\u001b[38;5;241;43m.\u001b[39;49m\u001b[43mget_embeddings_client\u001b[49m()\n\u001b[1;32m      5\u001b[0m     \u001b[38;5;28;01mreturn\u001b[39;00m embeddings_client\u001b[38;5;241m.\u001b[39membed(\u001b[38;5;28minput\u001b[39m\u001b[38;5;241m=\u001b[39m[text],model\u001b[38;5;241m=\u001b[39membedding_model_name)\u001b[38;5;241m.\u001b[39mdata[\u001b[38;5;241m0\u001b[39m]\u001b[38;5;241m.\u001b[39membedding\n",
      "\u001b[0;31mAttributeError\u001b[0m: 'InferenceOperations' object has no attribute 'get_embeddings_client'"
     ]
    }
   ],
   "source": [
    "embedding_model_name=os.getenv(\"EMBEDDING_MODEL_NAME\")\n",
    "\n",
    "def generate_embeddings(text, model=embedding_model_name): \n",
    "    embeddings_client = project_client.inference.get_azure_openai_client()\n",
    "    return embeddings_client.embed(input=[text],model=embedding_model_name).data[0].embedding\n",
    "\n",
    "df_bills['ada_v2'] = df_bills[\"text\"].apply(lambda x : generate_embeddings (x, model = 'text-embedding-ada-002')) # model should be set to the deployment name you chose when you deployed the text-embedding-ada-002 (Version 2) model\n",
    "print(df_bills['ada_v2'])"
   ]
  },
  {
   "cell_type": "code",
   "execution_count": null,
   "id": "ab0141d4",
   "metadata": {},
   "outputs": [],
   "source": [
    "def cosine_similarity(a, b):\n",
    "    return np.dot(a, b) / (np.linalg.norm(a) * np.linalg.norm(b))\n",
    "\n",
    "def search_docs(df, user_query, top_n=4, to_print=True):\n",
    "    embedding = generate_embeddings(user_query)\n",
    "    df[\"similarities\"] = df.ada_v2.apply(lambda x: cosine_similarity(x, embedding))\n",
    "\n",
    "    res = (\n",
    "        df.sort_values(\"similarities\", ascending=False)\n",
    "        .head(top_n)\n",
    "    )\n",
    "    if to_print:\n",
    "        display(res)\n",
    "    return res\n",
    "\n",
    "user_query=\"Can I get information on cable company tax revenue?\"\n",
    "res = search_docs(df_bills, user_query, top_n=4)"
   ]
  },
  {
   "cell_type": "code",
   "execution_count": null,
   "id": "82d2aa29",
   "metadata": {},
   "outputs": [],
   "source": [
    "res[\"summary\"][9]"
   ]
  }
 ],
 "metadata": {
  "kernelspec": {
   "display_name": ".conda",
   "language": "python",
   "name": "python3"
  },
  "language_info": {
   "codemirror_mode": {
    "name": "ipython",
    "version": 3
   },
   "file_extension": ".py",
   "mimetype": "text/x-python",
   "name": "python",
   "nbconvert_exporter": "python",
   "pygments_lexer": "ipython3",
   "version": "3.9.7"
  }
 },
 "nbformat": 4,
 "nbformat_minor": 5
}
